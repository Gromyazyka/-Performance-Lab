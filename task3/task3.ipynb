{
 "cells": [
  {
   "cell_type": "code",
   "execution_count": 1,
   "id": "151cb4cc",
   "metadata": {},
   "outputs": [
    {
     "name": "stdout",
     "output_type": "stream",
     "text": [
      "[2, 41, 73, 110, 122, 234, 238, 345, 653, 690, 5321, 5322]\n",
      "failed\n"
     ]
    }
   ],
   "source": [
    "import json\n",
    "import shutil\n",
    " \n",
    "shutil.copy('tests.json', 'report.json')                   #создаем шаблон файла report, в котором будем производить замены\n",
    "\n",
    "# Чтение данных из файлов values.json, tests.json\n",
    "with open('values.json', 'r') as values_file:\n",
    "    values_data = json.load(values_file)\n",
    "\n",
    "with open('report.json', 'r') as report_file:\n",
    "    report_data = json.load(report_file)\n",
    "\n",
    "def get_index(values_data):                                 #получаем id из файла values\n",
    "    index = []\n",
    "    for values_items in values_data.values():\n",
    "        for i in range(len(values_items)):\n",
    "            values_item = values_items[i]\n",
    "            values_id = values_item['id']\n",
    "            values_value = values_item['value']\n",
    "            index.append(values_id)\n",
    "    return(index)\n",
    "\n",
    "def get_values(values_data, element):                        #получаем значения values из файла values\n",
    "    for values_items in values_data.values():\n",
    "        for i in range(len(values_items)):\n",
    "            values_item = values_items[i]\n",
    "            values_id = values_item['id']\n",
    "            values_value = values_item['value']\n",
    "            if values_id == element:\n",
    "                return values_value\n",
    "            \n",
    "print(get_index(values_data))                    \n",
    "print(get_values(values_data, get_index(values_data)[11]))\n",
    "\n",
    "with open('report.json') as new_report_file:\n",
    "    new_report_data = json.load(new_report_file)\n",
    "    for report_items in new_report_data.values():\n",
    "        for i in range(len(report_items)):\n",
    "            report_item = report_items[i]\n",
    "            report_id = report_item['id']\n",
    "            report_value = report_item['value']\n",
    "        for i in range(len(get_index(values_data))):\n",
    "            if report_item['id'] == get_index(values_data)[i]:\n",
    "                report_item['value'] = get_values(values_data, get_index(values_data)[i])\n",
    "\n",
    "\n",
    "        \n",
    "#my_file = open(\"report.json\", \"w+\", encoding='utf-8')\n",
    "#my_file.write(tests_file)\n",
    "#my_file.close()"
   ]
  },
  {
   "cell_type": "code",
   "execution_count": null,
   "id": "965ed94f",
   "metadata": {},
   "outputs": [],
   "source": []
  }
 ],
 "metadata": {
  "kernelspec": {
   "display_name": "Python 3 (ipykernel)",
   "language": "python",
   "name": "python3"
  },
  "language_info": {
   "codemirror_mode": {
    "name": "ipython",
    "version": 3
   },
   "file_extension": ".py",
   "mimetype": "text/x-python",
   "name": "python",
   "nbconvert_exporter": "python",
   "pygments_lexer": "ipython3",
   "version": "3.11.3"
  }
 },
 "nbformat": 4,
 "nbformat_minor": 5
}

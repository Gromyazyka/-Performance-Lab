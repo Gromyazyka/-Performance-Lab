{
 "cells": [
  {
   "cell_type": "code",
   "execution_count": 1,
   "id": "356a7e61",
   "metadata": {},
   "outputs": [
    {
     "name": "stdout",
     "output_type": "stream",
     "text": [
      "1\n",
      "0\n",
      "2\n"
     ]
    }
   ],
   "source": [
    "def f_circle(x,y,x0,y0,R):\n",
    "    return (x-x0)**2 + (y-y0)**2 - R**2\n",
    "\n",
    "def where_dot(x,y,x0,y0,R):\n",
    "    if f_circle(x,y,x0,y0,R) == 0:\n",
    "        return 0\n",
    "    elif f_circle(x,y,x0,y0,R) > 0:\n",
    "        return 2\n",
    "    elif f_circle(x,y,x0,y0,R) < 0:\n",
    "        return 1\n",
    "\n",
    "with open('file1.txt', 'r', encoding='utf-8') as f1:\n",
    "    data1 = f1.readlines()  \n",
    "\n",
    "with open('file2.txt', 'r', encoding='utf-8') as f2:\n",
    "    data2 = f2.readlines()\n",
    "\n",
    "x0 = float(data1[0].split()[0])\n",
    "y0 = float(data1[0].split()[1])\n",
    "R = float(data1[1])\n",
    "\n",
    "for i in range(len(data2)):\n",
    "    x = float(data2[i].split()[0])\n",
    "    y = float(data2[i].split()[1])\n",
    "    print(where_dot(x,y,x0,y0,R))\n"
   ]
  }
 ],
 "metadata": {
  "kernelspec": {
   "display_name": "Python 3 (ipykernel)",
   "language": "python",
   "name": "python3"
  },
  "language_info": {
   "codemirror_mode": {
    "name": "ipython",
    "version": 3
   },
   "file_extension": ".py",
   "mimetype": "text/x-python",
   "name": "python",
   "nbconvert_exporter": "python",
   "pygments_lexer": "ipython3",
   "version": "3.11.3"
  }
 },
 "nbformat": 4,
 "nbformat_minor": 5
}

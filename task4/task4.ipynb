{
 "cells": [
  {
   "cell_type": "code",
   "execution_count": 1,
   "id": "a2036f83",
   "metadata": {},
   "outputs": [
    {
     "name": "stdout",
     "output_type": "stream",
     "text": [
      "16\n"
     ]
    }
   ],
   "source": [
    "with open('numbers.txt', 'r', encoding='utf-8') as f:\n",
    "    nums = [int(line.strip()) for line in f]\n",
    "\n",
    "mean = int(sum(nums) / len(nums))\n",
    "\n",
    "count = 0\n",
    "\n",
    "for a in nums:\n",
    "    while a != mean:\n",
    "        if a > mean:\n",
    "            a -= 1\n",
    "            count += 1\n",
    "        elif a < mean:\n",
    "            a += 1\n",
    "            count +=1\n",
    "            \n",
    "print(count)"
   ]
  },
  {
   "cell_type": "code",
   "execution_count": null,
   "id": "997738cf",
   "metadata": {},
   "outputs": [],
   "source": []
  }
 ],
 "metadata": {
  "kernelspec": {
   "display_name": "Python 3 (ipykernel)",
   "language": "python",
   "name": "python3"
  },
  "language_info": {
   "codemirror_mode": {
    "name": "ipython",
    "version": 3
   },
   "file_extension": ".py",
   "mimetype": "text/x-python",
   "name": "python",
   "nbconvert_exporter": "python",
   "pygments_lexer": "ipython3",
   "version": "3.11.3"
  }
 },
 "nbformat": 4,
 "nbformat_minor": 5
}

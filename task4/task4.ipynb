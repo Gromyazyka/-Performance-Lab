{
 "cells": [
  {
   "cell_type": "code",
   "execution_count": null,
   "id": "997738cf",
   "metadata": {},
   "outputs": [],
   "source": [
    "def get_min_count(filename):\n",
    "    with open(filename, 'r', encoding='utf-8') as f:\n",
    "        nums = [int(line.strip()) for line in f]\n",
    "    \n",
    "    mean = int(sum(nums) / len(nums))\n",
    "    count = 0\n",
    "\n",
    "    for a in nums:\n",
    "        while a != mean:\n",
    "            if a > mean:\n",
    "                a -= 1\n",
    "                count += 1\n",
    "            elif a < mean:\n",
    "                a += 1\n",
    "                count +=1\n",
    "\n",
    "    return count"
   ]
  },
  {
   "cell_type": "code",
   "execution_count": null,
   "id": "272f646b",
   "metadata": {},
   "outputs": [],
   "source": [
    "get_min_count('numbers.txt')"
   ]
  },
  {
   "cell_type": "code",
   "execution_count": 1,
   "id": "548c8d05",
   "metadata": {},
   "outputs": [
    {
     "name": "stdout",
     "output_type": "stream",
     "text": [
      "[1, 2, 3, [4, 5], 6]\n"
     ]
    }
   ],
   "source": [
    "l = [1,2,3]\n",
    "m = [4,5]\n",
    "n = 6\n",
    "l.append(m)\n",
    "l.append(n)\n",
    "print(l)"
   ]
  },
  {
   "cell_type": "code",
   "execution_count": null,
   "id": "fd0b0302",
   "metadata": {},
   "outputs": [],
   "source": []
  }
 ],
 "metadata": {
  "kernelspec": {
   "display_name": "Python 3 (ipykernel)",
   "language": "python",
   "name": "python3"
  },
  "language_info": {
   "codemirror_mode": {
    "name": "ipython",
    "version": 3
   },
   "file_extension": ".py",
   "mimetype": "text/x-python",
   "name": "python",
   "nbconvert_exporter": "python",
   "pygments_lexer": "ipython3",
   "version": "3.11.3"
  }
 },
 "nbformat": 4,
 "nbformat_minor": 5
}
